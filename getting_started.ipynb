{
 "cells": [
  {
   "cell_type": "markdown",
   "metadata": {},
   "source": [
    "## LAB 4 notbook\n",
    "## LLM testing"
   ]
  },
  {
   "cell_type": "code",
   "execution_count": 3,
   "metadata": {},
   "outputs": [],
   "source": [
    "from poly_llm.to_test.file_name_check import file_name_check\n",
    "from poly_llm.to_test.closest_integer import closest_integer\n",
    "from poly_llm.to_test.find_closest_elements import find_closest_elements\n",
    "from poly_llm.to_test.numerical_letter_grade import numerical_letter_grade\n",
    "from poly_llm.to_test.separate_paren_groups import separate_paren_groups\n",
    "from poly_llm.common.abstract_executor import AbstractExecutor\n",
    "from poly_llm.common.prompt_generator import PromptGenerator\n",
    "from poly_llm.generators.llm_test_generator import LLMTestGenerator\n",
    "from transformers import AutoTokenizer, T5ForConditionalGeneration\n",
    "import json\n",
    "import torch\n",
    "import importlib\n",
    "import os"
   ]
  },
  {
   "cell_type": "markdown",
   "metadata": {},
   "source": [
    "### Measuring the code coverage"
   ]
  },
  {
   "cell_type": "code",
   "execution_count": 4,
   "metadata": {},
   "outputs": [
    {
     "name": "stdout",
     "output_type": "stream",
     "text": [
      "{'input': 'example.txt', 'exceptions': 0, 'execution_time': 0.0, 'coverage': {'covered_lines': 9, 'num_statements': 15, 'percent_covered': 56.0, 'percent_covered_display': '56', 'missing_lines': 6, 'excluded_lines': 4, 'num_branches': 10, 'num_partial_branches': 5, 'covered_branches': 5, 'missing_branches': 5}}\n",
      "{'input': '1example.dll', 'exceptions': 0, 'execution_time': 0.0, 'coverage': {'covered_lines': 7, 'num_statements': 15, 'percent_covered': 44.0, 'percent_covered_display': '44', 'missing_lines': 8, 'excluded_lines': 4, 'num_branches': 10, 'num_partial_branches': 4, 'covered_branches': 4, 'missing_branches': 6}}\n",
      "{'input': 's1sdf3.asd', 'exceptions': 0, 'execution_time': 0.0, 'coverage': {'covered_lines': 5, 'num_statements': 15, 'percent_covered': 28.0, 'percent_covered_display': '28', 'missing_lines': 10, 'excluded_lines': 4, 'num_branches': 10, 'num_partial_branches': 2, 'covered_branches': 2, 'missing_branches': 8}}\n",
      "{'input': 'K.dll', 'exceptions': 0, 'execution_time': 0.0, 'coverage': {'covered_lines': 9, 'num_statements': 15, 'percent_covered': 56.0, 'percent_covered_display': '56', 'missing_lines': 6, 'excluded_lines': 4, 'num_branches': 10, 'num_partial_branches': 5, 'covered_branches': 5, 'missing_branches': 5}}\n",
      "{'input': 'MY16FILE3.exe', 'exceptions': 0, 'execution_time': 0.0, 'coverage': {'covered_lines': 9, 'num_statements': 15, 'percent_covered': 56.0, 'percent_covered_display': '56', 'missing_lines': 6, 'excluded_lines': 4, 'num_branches': 10, 'num_partial_branches': 5, 'covered_branches': 5, 'missing_branches': 5}}\n",
      "{'input': 'His12FILE94.exe', 'exceptions': 0, 'execution_time': 0.001001119613647461, 'coverage': {'covered_lines': 9, 'num_statements': 15, 'percent_covered': 56.0, 'percent_covered_display': '56', 'missing_lines': 6, 'excluded_lines': 4, 'num_branches': 10, 'num_partial_branches': 5, 'covered_branches': 5, 'missing_branches': 5}}\n",
      "{'input': '_Y.txt', 'exceptions': 0, 'execution_time': 0.0, 'coverage': {'covered_lines': 7, 'num_statements': 15, 'percent_covered': 44.0, 'percent_covered_display': '44', 'missing_lines': 8, 'excluded_lines': 4, 'num_branches': 10, 'num_partial_branches': 4, 'covered_branches': 4, 'missing_branches': 6}}\n",
      "{'input': '?aREYA.exe', 'exceptions': 0, 'execution_time': 0.0010004043579101562, 'coverage': {'covered_lines': 7, 'num_statements': 15, 'percent_covered': 44.0, 'percent_covered_display': '44', 'missing_lines': 8, 'excluded_lines': 4, 'num_branches': 10, 'num_partial_branches': 4, 'covered_branches': 4, 'missing_branches': 6}}\n",
      "{'input': '/this_is_valid.dll', 'exceptions': 0, 'execution_time': 0.0010008811950683594, 'coverage': {'covered_lines': 7, 'num_statements': 15, 'percent_covered': 44.0, 'percent_covered_display': '44', 'missing_lines': 8, 'excluded_lines': 4, 'num_branches': 10, 'num_partial_branches': 4, 'covered_branches': 4, 'missing_branches': 6}}\n",
      "{'input': 'this_is_valid.wow', 'exceptions': 0, 'execution_time': 0.0010001659393310547, 'coverage': {'covered_lines': 5, 'num_statements': 15, 'percent_covered': 28.0, 'percent_covered_display': '28', 'missing_lines': 10, 'excluded_lines': 4, 'num_branches': 10, 'num_partial_branches': 2, 'covered_branches': 2, 'missing_branches': 8}}\n"
     ]
    }
   ],
   "source": [
    "executor = AbstractExecutor(file_name_check)\n",
    "\n",
    "inputs = [\n",
    "    \"example.txt\",\n",
    "    \"1example.dll\",\n",
    "    's1sdf3.asd',\n",
    "    'K.dll',\n",
    "    'MY16FILE3.exe',\n",
    "    'His12FILE94.exe',\n",
    "    '_Y.txt',\n",
    "    '?aREYA.exe',\n",
    "    '/this_is_valid.dll',\n",
    "    'this_is_valid.wow',\n",
    "]\n",
    "\n",
    "# Execute the inputs and print the results\n",
    "for input in inputs:\n",
    "    #exceptions, execution_time, coverage = executor._execute_input(input)\n",
    "    coverage_date = executor._execute_input(input)\n",
    "    print(coverage_date)"
   ]
  },
  {
   "cell_type": "markdown",
   "metadata": {},
   "source": [
    "### Running the promt with the LLM"
   ]
  },
  {
   "cell_type": "code",
   "execution_count": 2,
   "metadata": {},
   "outputs": [],
   "source": [
    "device = torch.device(\"cuda\" if torch.cuda.is_available() else \"cpu\")\n",
    "model_name = \"Salesforce/codet5-large-ntp-py\"\n",
    "tokenizer = AutoTokenizer.from_pretrained(model_name) #tokenizer#AutoTokenizer.from_pretrained(\"codellama/CodeLlama-7b-Python-hf\")#\n",
    "model = T5ForConditionalGeneration.from_pretrained(model_name).to(device)"
   ]
  },
  {
   "cell_type": "code",
   "execution_count": 33,
   "metadata": {},
   "outputs": [
    {
     "name": "stdout",
     "output_type": "stream",
     "text": [
      "THE PROMPT Generate tests for the function separate_paren_groups \n",
      " Code \n",
      "def separate_paren_groups(paren_string: str) -> List[str]:\n",
      "    \n",
      "    result = []\n",
      "    current_string = []\n",
      "    current_depth = 0\n",
      "\n",
      "    for c in paren_string:\n",
      "        if c == '(':\n",
      "            current_depth += 1\n",
      "            current_string.append(c)\n",
      "        elif c == ')':\n",
      "            current_depth -= 1\n",
      "            current_string.append(c)\n",
      "\n",
      "            if current_depth == 0:\n",
      "                result.append(''.join(current_string))\n",
      "                current_string.clear()\n",
      "\n",
      "    return result\n",
      "\n",
      "Test \n",
      "def test_separate_paren_groups():\n",
      "\n"
     ]
    }
   ],
   "source": [
    "xecutor = AbstractExecutor(separate_paren_groups)\n",
    "prompt_generator = PromptGenerator(separate_paren_groups)\n",
    "\n",
    "llm_generator = LLMTestGenerator(model, tokenizer, separate_paren_groups)\n",
    "prompt = prompt_generator.generate_prompt()\n",
    "\n",
    "print(f\"THE PROMPT {prompt}\")\n",
    "#test, test_name = llm_generator.create_test_function(prompt)"
   ]
  },
  {
   "cell_type": "markdown",
   "metadata": {},
   "source": [
    "### Measuring the coverage achived by the LLM produced code"
   ]
  },
  {
   "cell_type": "code",
   "execution_count": null,
   "metadata": {},
   "outputs": [
    {
     "name": "stdout",
     "output_type": "stream",
     "text": [
      "Test function written to test_generated.py\n"
     ]
    },
    {
     "ename": "OSError",
     "evalue": "lineno is out of bounds",
     "output_type": "error",
     "traceback": [
      "\u001b[1;31m---------------------------------------------------------------------------\u001b[0m",
      "\u001b[1;31mIndexError\u001b[0m                                Traceback (most recent call last)",
      "File \u001b[1;32mc:\\Users\\seifa\\miniconda3\\envs\\llmenv\\Lib\\inspect.py:1126\u001b[0m, in \u001b[0;36mfindsource\u001b[1;34m(object)\u001b[0m\n\u001b[0;32m   1125\u001b[0m \u001b[38;5;28;01mtry\u001b[39;00m:\n\u001b[1;32m-> 1126\u001b[0m     line \u001b[38;5;241m=\u001b[39m \u001b[43mlines\u001b[49m\u001b[43m[\u001b[49m\u001b[43mlnum\u001b[49m\u001b[43m]\u001b[49m\n\u001b[0;32m   1127\u001b[0m \u001b[38;5;28;01mexcept\u001b[39;00m \u001b[38;5;167;01mIndexError\u001b[39;00m:\n",
      "\u001b[1;31mIndexError\u001b[0m: list index out of range",
      "\nDuring handling of the above exception, another exception occurred:\n",
      "\u001b[1;31mOSError\u001b[0m                                   Traceback (most recent call last)",
      "Cell \u001b[1;32mIn[6], line 11\u001b[0m\n\u001b[0;32m      8\u001b[0m module \u001b[38;5;241m=\u001b[39m importlib\u001b[38;5;241m.\u001b[39mimport_module(module_name)\n\u001b[0;32m      9\u001b[0m function \u001b[38;5;241m=\u001b[39m \u001b[38;5;28mgetattr\u001b[39m(module, function_name)\n\u001b[1;32m---> 11\u001b[0m executor2 \u001b[38;5;241m=\u001b[39m \u001b[43mAbstractExecutor\u001b[49m\u001b[43m(\u001b[49m\u001b[43mfunction\u001b[49m\u001b[43m)\u001b[49m\n\u001b[0;32m     13\u001b[0m coverage_data \u001b[38;5;241m=\u001b[39m executor2\u001b[38;5;241m.\u001b[39m_execute_input(file_name_check)\n\u001b[0;32m     14\u001b[0m \u001b[38;5;28mprint\u001b[39m(coverage_data)\n",
      "File \u001b[1;32mf:\\Canada\\Courses\\LOG3650 - Advanced Software Testing\\Lab\\Lab 4\\HIV_2024_TP4\\poly_llm\\common\\abstract_executor.py:16\u001b[0m, in \u001b[0;36mAbstractExecutor.__init__\u001b[1;34m(self, program_module)\u001b[0m\n\u001b[0;32m     14\u001b[0m \u001b[38;5;28mself\u001b[39m\u001b[38;5;241m.\u001b[39mexecution_data \u001b[38;5;241m=\u001b[39m {}\n\u001b[0;32m     15\u001b[0m \u001b[38;5;66;03m#print(f\"Program module: {program_module.__name__}\")\u001b[39;00m\n\u001b[1;32m---> 16\u001b[0m \u001b[38;5;28mself\u001b[39m\u001b[38;5;241m.\u001b[39m_lines, _ \u001b[38;5;241m=\u001b[39m \u001b[43minspect\u001b[49m\u001b[38;5;241;43m.\u001b[39;49m\u001b[43mgetsourcelines\u001b[49m\u001b[43m(\u001b[49m\u001b[43mprogram_module\u001b[49m\u001b[43m)\u001b[49m\n",
      "File \u001b[1;32mc:\\Users\\seifa\\miniconda3\\envs\\llmenv\\Lib\\inspect.py:1264\u001b[0m, in \u001b[0;36mgetsourcelines\u001b[1;34m(object)\u001b[0m\n\u001b[0;32m   1256\u001b[0m \u001b[38;5;250m\u001b[39m\u001b[38;5;124;03m\"\"\"Return a list of source lines and starting line number for an object.\u001b[39;00m\n\u001b[0;32m   1257\u001b[0m \n\u001b[0;32m   1258\u001b[0m \u001b[38;5;124;03mThe argument may be a module, class, method, function, traceback, frame,\u001b[39;00m\n\u001b[1;32m   (...)\u001b[0m\n\u001b[0;32m   1261\u001b[0m \u001b[38;5;124;03moriginal source file the first line of code was found.  An OSError is\u001b[39;00m\n\u001b[0;32m   1262\u001b[0m \u001b[38;5;124;03mraised if the source code cannot be retrieved.\"\"\"\u001b[39;00m\n\u001b[0;32m   1263\u001b[0m \u001b[38;5;28mobject\u001b[39m \u001b[38;5;241m=\u001b[39m unwrap(\u001b[38;5;28mobject\u001b[39m)\n\u001b[1;32m-> 1264\u001b[0m lines, lnum \u001b[38;5;241m=\u001b[39m \u001b[43mfindsource\u001b[49m\u001b[43m(\u001b[49m\u001b[38;5;28;43mobject\u001b[39;49m\u001b[43m)\u001b[49m\n\u001b[0;32m   1266\u001b[0m \u001b[38;5;28;01mif\u001b[39;00m istraceback(\u001b[38;5;28mobject\u001b[39m):\n\u001b[0;32m   1267\u001b[0m     \u001b[38;5;28mobject\u001b[39m \u001b[38;5;241m=\u001b[39m \u001b[38;5;28mobject\u001b[39m\u001b[38;5;241m.\u001b[39mtb_frame\n",
      "File \u001b[1;32mc:\\Users\\seifa\\miniconda3\\envs\\llmenv\\Lib\\inspect.py:1128\u001b[0m, in \u001b[0;36mfindsource\u001b[1;34m(object)\u001b[0m\n\u001b[0;32m   1126\u001b[0m     line \u001b[38;5;241m=\u001b[39m lines[lnum]\n\u001b[0;32m   1127\u001b[0m \u001b[38;5;28;01mexcept\u001b[39;00m \u001b[38;5;167;01mIndexError\u001b[39;00m:\n\u001b[1;32m-> 1128\u001b[0m     \u001b[38;5;28;01mraise\u001b[39;00m \u001b[38;5;167;01mOSError\u001b[39;00m(\u001b[38;5;124m'\u001b[39m\u001b[38;5;124mlineno is out of bounds\u001b[39m\u001b[38;5;124m'\u001b[39m)\n\u001b[0;32m   1129\u001b[0m \u001b[38;5;28;01mif\u001b[39;00m pat\u001b[38;5;241m.\u001b[39mmatch(line):\n\u001b[0;32m   1130\u001b[0m     \u001b[38;5;28;01mbreak\u001b[39;00m\n",
      "\u001b[1;31mOSError\u001b[0m: lineno is out of bounds"
     ]
    }
   ],
   "source": [
    "filename = \"test_generated.py\"\n",
    "llm_generator.write_test_to_file(test, filename=filename)\n",
    "\n",
    "module_name = filename.split(\".\")[0]\n",
    "function_name = test_name\n",
    "\n",
    "# Dynamically import the module\n",
    "module = importlib.import_module(module_name)\n",
    "#refresh the module\n",
    "module = importlib.reload(module)\n",
    "function = getattr(module, function_name)\n",
    "\n",
    "executor2 = AbstractExecutor(function)\n",
    "\n",
    "coverage_data = executor2._execute_input(closest_integer)\n",
    "print(coverage_data)"
   ]
  },
  {
   "cell_type": "markdown",
   "metadata": {},
   "source": [
    "### Measuring the coverage achived by manually written test"
   ]
  },
  {
   "cell_type": "code",
   "execution_count": 4,
   "metadata": {},
   "outputs": [
    {
     "name": "stdout",
     "output_type": "stream",
     "text": [
      "test_closest_integer {'input': None, 'exceptions': 0, 'execution_time': 0.0010013580322265625, 'coverage': {'covered_lines': 10, 'num_statements': 14, 'percent_covered': 70.83333333333333, 'percent_covered_display': '71', 'missing_lines': 4, 'excluded_lines': 3, 'num_branches': 10, 'num_partial_branches': 3, 'covered_branches': 7, 'missing_branches': 3}}\n",
      "test_file_name_check {'input': None, 'exceptions': 0, 'execution_time': 0.0010006427764892578, 'coverage': {'covered_lines': 11, 'num_statements': 15, 'percent_covered': 72.0, 'percent_covered_display': '72', 'missing_lines': 4, 'excluded_lines': 4, 'num_branches': 10, 'num_partial_branches': 3, 'covered_branches': 7, 'missing_branches': 3}}\n",
      "test_find_closest_elements {'input': None, 'exceptions': 0, 'execution_time': 0.001001119613647461, 'coverage': {'covered_lines': 13, 'num_statements': 15, 'percent_covered': 92.0, 'percent_covered_display': '92', 'missing_lines': 2, 'excluded_lines': 3, 'num_branches': 10, 'num_partial_branches': 0, 'covered_branches': 10, 'missing_branches': 0}}\n",
      "test_numerical_letter_grade {'input': None, 'exceptions': 0, 'execution_time': 0.0, 'coverage': {'covered_lines': 19, 'num_statements': 29, 'percent_covered': 65.45454545454545, 'percent_covered_display': '65', 'missing_lines': 10, 'excluded_lines': 3, 'num_branches': 26, 'num_partial_branches': 5, 'covered_branches': 17, 'missing_branches': 9}}\n",
      "test_separate_paren_groups {'input': None, 'exceptions': 0, 'execution_time': 0.0009946823120117188, 'coverage': {'covered_lines': 14, 'num_statements': 16, 'percent_covered': 91.66666666666667, 'percent_covered_display': '92', 'missing_lines': 2, 'excluded_lines': 3, 'num_branches': 8, 'num_partial_branches': 0, 'covered_branches': 8, 'missing_branches': 0}}\n"
     ]
    }
   ],
   "source": [
    "from poly_llm.to_test.file_name_check import test_file_name_check\n",
    "from poly_llm.to_test.closest_integer import test_closest_integer\n",
    "from poly_llm.to_test.find_closest_elements import test_find_closest_elements\n",
    "from poly_llm.to_test.numerical_letter_grade import test_numerical_letter_grade\n",
    "from poly_llm.to_test.separate_paren_groups import test_separate_paren_groups\n",
    "\n",
    "TUTS = [test_closest_integer, test_file_name_check, test_find_closest_elements, test_numerical_letter_grade, test_separate_paren_groups]\n",
    "\n",
    "for test in TUTS:\n",
    "    executor3 = AbstractExecutor(test)\n",
    "    coverage_data = executor3._execute_input()\n",
    "    #print function name\n",
    "    print(test.__name__, coverage_data)"
   ]
  },
  {
   "cell_type": "code",
   "execution_count": 21,
   "metadata": {},
   "outputs": [
    {
     "name": "stdout",
     "output_type": "stream",
     "text": [
      "test_numerical_letter_grade {'input': None, 'exceptions': 0, 'execution_time': 0.0010018348693847656, 'coverage': {'covered_lines': 20, 'num_statements': 31, 'percent_covered': 64.91228070175438, 'percent_covered_display': '65', 'missing_lines': 11, 'excluded_lines': 0, 'num_branches': 26, 'num_partial_branches': 5, 'covered_branches': 17, 'missing_branches': 9}}\n"
     ]
    }
   ],
   "source": [
    "from poly_llm.to_test.file_name_check import test_file_name_check\n",
    "from poly_llm.to_test.closest_integer import test_closest_integer\n",
    "from poly_llm.to_test.find_closest_elements import test_find_closest_elements\n",
    "from poly_llm.to_test.numerical_letter_grade import test_numerical_letter_grade\n",
    "from poly_llm.to_test.separate_paren_groups import test_separate_paren_groups\n",
    "\n",
    "#TUTS = [test_closest_integer, test_file_name_check, test_find_closest_elements, test_numerical_letter_grade, test_separate_paren_groups]\n",
    "TUTS = [test_find_closest_elements]\n",
    "for test in TUTS:\n",
    "    executor3 = AbstractExecutor(test)\n",
    "    coverage_data = executor3._execute_input()\n",
    "    #print function name\n",
    "    print(test.__name__, coverage_data)"
   ]
  },
  {
   "cell_type": "markdown",
   "metadata": {},
   "source": [
    "### Automation"
   ]
  },
  {
   "cell_type": "code",
   "execution_count": 16,
   "metadata": {},
   "outputs": [
    {
     "name": "stdout",
     "output_type": "stream",
     "text": [
      "def test_closest_integer():# pragma: no cover\n",
      "    assert closest_integer(\"10\") == 10, \"Test 1\"# pragma: no cover\n",
      "    assert closest_integer(\"14.5\") == 15, \"Test 2\"# pragma: no cover\n",
      "\n",
      "def test_file_name_check(): # pragma: no cover\n",
      "    assert file_name_check(\"example.txt\") == 'Yes' # pragma: no cover\n",
      "    assert file_name_check(\"1example.dll\") == 'No' # pragma: no cover\n",
      "    assert file_name_check('.txt') == 'No'# pragma: no cover\n",
      "\n",
      "def test_find_closest_elements():# pragma: no cover\n",
      "    assert find_closest_elements([1.0, 2.0, 3.9, 4.0, 5.0, 2.2]) == (3.9, 4.0)# pragma: no cover\n",
      "    assert find_closest_elements([1.0, 2.0, 5.9, 4.0, 5.0]) == (5.0, 5.9)# pragma: no cover\n",
      "\n",
      "def test_numerical_letter_grade():# pragma: no cover\n",
      "    assert numerical_letter_grade([4.0, 3, 1.7, 2, 3.5]) == ['A+', 'B', 'C-', 'C', 'A-']# pragma: no cover\n",
      "    assert numerical_letter_grade([1.2]) == ['D+']# pragma: no cover\n",
      "\n",
      "def test_separate_paren_groups():# pragma: no cover\n",
      "    assert separate_paren_groups('(()()) ((())) () ((())()())') == [\n",
      "    assert separate_paren_groups('() (()) ((())) (((())))') == [\n",
      "\n"
     ]
    }
   ],
   "source": [
    "PUTS = [closest_integer, file_name_check, find_closest_elements, numerical_letter_grade, separate_paren_groups]\n",
    "\n",
    "for PUT in PUTS:\n",
    "    example_tests = []\n",
    "    with open(f\"poly_llm/to_test/{PUT.__name__}.py\", \"r\") as f:\n",
    "        lines = f.readlines()\n",
    "        flag = False\n",
    "        for line in lines:\n",
    "            if \"def test_\" in line:\n",
    "                example_tests.append(line)\n",
    "                flag = True\n",
    "            if flag and \"assert\" in line:\n",
    "                example_tests.append(line)\n",
    "    #turn the list into a string\n",
    "    example_tests = \"\".join(example_tests)"
   ]
  },
  {
   "cell_type": "code",
   "execution_count": 20,
   "metadata": {},
   "outputs": [
    {
     "ename": "NameError",
     "evalue": "name 'model' is not defined",
     "output_type": "error",
     "traceback": [
      "\u001b[1;31m---------------------------------------------------------------------------\u001b[0m",
      "\u001b[1;31mNameError\u001b[0m                                 Traceback (most recent call last)",
      "Cell \u001b[1;32mIn[20], line 13\u001b[0m\n\u001b[0;32m     11\u001b[0m executor \u001b[38;5;241m=\u001b[39m AbstractExecutor(PUT)\n\u001b[0;32m     12\u001b[0m prompt_generator \u001b[38;5;241m=\u001b[39m PromptGenerator(PUT)\n\u001b[1;32m---> 13\u001b[0m llm_generator \u001b[38;5;241m=\u001b[39m LLMTestGenerator(\u001b[43mmodel\u001b[49m, tokenizer, PUT)\n\u001b[0;32m     15\u001b[0m example_tests \u001b[38;5;241m=\u001b[39m []\n\u001b[0;32m     16\u001b[0m \u001b[38;5;28;01mwith\u001b[39;00m \u001b[38;5;28mopen\u001b[39m(\u001b[38;5;124mf\u001b[39m\u001b[38;5;124m\"\u001b[39m\u001b[38;5;124mpoly_llm/to_test/\u001b[39m\u001b[38;5;132;01m{\u001b[39;00mPUT\u001b[38;5;241m.\u001b[39m\u001b[38;5;18m__name__\u001b[39m\u001b[38;5;132;01m}\u001b[39;00m\u001b[38;5;124m.py\u001b[39m\u001b[38;5;124m\"\u001b[39m, \u001b[38;5;124m\"\u001b[39m\u001b[38;5;124mr\u001b[39m\u001b[38;5;124m\"\u001b[39m) \u001b[38;5;28;01mas\u001b[39;00m f:\n",
      "\u001b[1;31mNameError\u001b[0m: name 'model' is not defined"
     ]
    }
   ],
   "source": [
    "PUTS = [closest_integer]#, file_name_check, find_closest_elements, numerical_letter_grade, separate_paren_groups]\n",
    "\n",
    "for PUT in PUTS:\n",
    "    #delete any file that was created by the previous PUT\n",
    "    try:\n",
    "        filename = f\"{PUT.__name__}_test_generated.py\"\n",
    "        os.remove(filename)\n",
    "    except:\n",
    "        pass\n",
    "\n",
    "    executor = AbstractExecutor(PUT)\n",
    "    prompt_generator = PromptGenerator(PUT)\n",
    "    llm_generator = LLMTestGenerator(model, tokenizer, PUT)\n",
    "\n",
    "    example_tests = []\n",
    "    with open(f\"poly_llm/to_test/{PUT.__name__}.py\", \"r\") as f:\n",
    "        lines = f.readlines()\n",
    "        for line in lines:\n",
    "            if \"def test_\" in line or \"assert\" in line:\n",
    "                example_tests.append(line)\n",
    "    #turn the list into a string\n",
    "    example_tests = \"\".join(example_tests)\n",
    "\n",
    "    # prompt = prompt_generator.generate_prompt(few_shot_examples=['''def test_closest_integer(): \\n\n",
    "    # assert closest_integer(\"10\") == 10, \"Test 1\"  \\n\n",
    "    # assert closest_integer(\"14.5\") == 15, \"Test 2\" \\n'''])\n",
    "    prompt = prompt_generator.generate_prompt()\n",
    "    #print(f\"THE PROMPT {prompt}\")\n",
    "\n",
    "    test, test_name = llm_generator.create_test_function(prompt)\n",
    "\n",
    "    #find the last assert and it remove from the test string the last assert statement and what comes after it\n",
    "    #remove any starting or trailing whitespace from the string\n",
    "    test = test.strip()\n",
    "\n",
    "    #remove the last assert from s\n",
    "    test = test.split(\"\\n\")\n",
    "    test = test[:-1]\n",
    "    test = \"\\n\".join(test)+'\\n'\n",
    "\n",
    "    #check if the last character is a  ) and if not add ') == 'NO'\n",
    "    # if test[-1] != \"'\" and PUT == file_name_check:\n",
    "    #     test = test.rstrip()\n",
    "    #     test += \"') == 'Yes'\"\n",
    "\n",
    "    filename = f\"{PUT.__name__}_test_generated.py\"\n",
    "    llm_generator.write_test_to_file(test, filename=filename)\n",
    "    module_name = filename.split(\".\")[0]\n",
    "    function_name = test_name\n",
    "\n",
    "\n",
    "    # Dynamically import the module\n",
    "    module = importlib.import_module(module_name)\n",
    "\n",
    "    #refresh the module\n",
    "    module = importlib.reload(module)\n",
    "\n",
    "\n",
    "    function = getattr(module, function_name)\n",
    "\n",
    "    executor2 = AbstractExecutor(function)\n",
    "\n",
    "    coverage_data = executor2._execute_input(PUT)\n",
    "    print(PUT.__name__, coverage_data)"
   ]
  },
  {
   "cell_type": "code",
   "execution_count": 39,
   "metadata": {},
   "outputs": [
    {
     "ename": "IndentationError",
     "evalue": "expected an indented block after function definition on line 1 (separate_paren_groups_test_generated.py, line 18)",
     "output_type": "error",
     "traceback": [
      "Traceback \u001b[1;36m(most recent call last)\u001b[0m:\n",
      "\u001b[0m  File \u001b[0;32m~\\AppData\\Roaming\\Python\\Python312\\site-packages\\IPython\\core\\interactiveshell.py:3553\u001b[0m in \u001b[0;35mrun_code\u001b[0m\n    exec(code_obj, self.user_global_ns, self.user_ns)\u001b[0m\n",
      "\u001b[0m  Cell \u001b[0;32mIn[39], line 13\u001b[0m\n    module = importlib.reload(module)\u001b[0m\n",
      "\u001b[0m  File \u001b[0;32mc:\\Users\\seifa\\miniconda3\\envs\\llmenv\\Lib\\importlib\\__init__.py:131\u001b[0m in \u001b[0;35mreload\u001b[0m\n    _bootstrap._exec(spec, module)\u001b[0m\n",
      "\u001b[0m  File \u001b[0;32m<frozen importlib._bootstrap>:860\u001b[0m in \u001b[0;35m_exec\u001b[0m\n",
      "\u001b[0m  File \u001b[0;32m<frozen importlib._bootstrap_external>:990\u001b[0m in \u001b[0;35mexec_module\u001b[0m\n",
      "\u001b[0m  File \u001b[0;32m<frozen importlib._bootstrap_external>:1128\u001b[0m in \u001b[0;35mget_code\u001b[0m\n",
      "\u001b[0m  File \u001b[0;32m<frozen importlib._bootstrap_external>:1058\u001b[0m in \u001b[0;35msource_to_code\u001b[0m\n",
      "\u001b[1;36m  File \u001b[1;32m<frozen importlib._bootstrap>:488\u001b[1;36m in \u001b[1;35m_call_with_frames_removed\u001b[1;36m\n",
      "\u001b[1;36m  File \u001b[1;32mf:\\Canada\\Courses\\LOG3650 - Advanced Software Testing\\Lab\\Lab 4\\HIV_2024_TP4\\separate_paren_groups_test_generated.py:18\u001b[1;36m\u001b[0m\n\u001b[1;33m    # assert separate_paren_groups('(()()())') == ['(()()()', '(()()())']\u001b[0m\n\u001b[1;37m                                                                         ^\u001b[0m\n\u001b[1;31mIndentationError\u001b[0m\u001b[1;31m:\u001b[0m expected an indented block after function definition on line 1\n"
     ]
    }
   ],
   "source": [
    "PUTS = [closest_integer, file_name_check, find_closest_elements, numerical_letter_grade, separate_paren_groups]\n",
    "\n",
    "i = 4\n",
    "filename = f\"{PUTS[i].__name__}_test_generated.py\"\n",
    "module_name = filename.split(\".\")[0]\n",
    "function_name = \"test_\"+PUTS[i].__name__\n",
    "\n",
    "\n",
    "# Dynamically import the module\n",
    "module = importlib.import_module(module_name)\n",
    "\n",
    "#refresh the module\n",
    "module = importlib.reload(module)\n",
    "\n",
    "\n",
    "function = getattr(module, function_name)\n",
    "\n",
    "executor2 = AbstractExecutor(function)\n",
    "\n",
    "coverage_data = executor2._execute_input(PUTS[i])\n",
    "print(PUTS[i].__name__, coverage_data)"
   ]
  }
 ],
 "metadata": {
  "kernelspec": {
   "display_name": "lab4",
   "language": "python",
   "name": "python3"
  },
  "language_info": {
   "codemirror_mode": {
    "name": "ipython",
    "version": 3
   },
   "file_extension": ".py",
   "mimetype": "text/x-python",
   "name": "python",
   "nbconvert_exporter": "python",
   "pygments_lexer": "ipython3",
   "version": "3.12.0"
  }
 },
 "nbformat": 4,
 "nbformat_minor": 2
}
